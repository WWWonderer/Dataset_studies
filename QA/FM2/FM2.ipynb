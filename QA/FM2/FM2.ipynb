{
  "nbformat": 4,
  "nbformat_minor": 0,
  "metadata": {
    "colab": {
      "provenance": [],
      "authorship_tag": "ABX9TyMPF0Cks8TvuMhrDIsgwAEb",
      "include_colab_link": true
    },
    "kernelspec": {
      "name": "python3",
      "display_name": "Python 3"
    },
    "language_info": {
      "name": "python"
    }
  },
  "cells": [
    {
      "cell_type": "markdown",
      "metadata": {
        "id": "view-in-github",
        "colab_type": "text"
      },
      "source": [
        "<a href=\"https://colab.research.google.com/github/WWWonderer/Dataset_studies/blob/main/QA/FM2/FM2.ipynb\" target=\"_parent\"><img src=\"https://colab.research.google.com/assets/colab-badge.svg\" alt=\"Open In Colab\"/></a>"
      ]
    },
    {
      "cell_type": "markdown",
      "source": [
        "\n",
        "\n",
        "Raw jsonl\n",
        "\n"
      ],
      "metadata": {
        "id": "5e7o_QJ2wFPA"
      }
    },
    {
      "cell_type": "code",
      "source": [
        "%%capture\n",
        "!wget https://raw.githubusercontent.com/google-research/fool-me-twice/main/dataset/train.jsonl -O train.jsonl\n",
        "!wget https://raw.githubusercontent.com/google-research/fool-me-twice/main/dataset/dev.jsonl -O dev.jsonl"
      ],
      "metadata": {
        "id": "kDFvELNGuc2V"
      },
      "execution_count": 23,
      "outputs": []
    },
    {
      "cell_type": "code",
      "source": [
        "import json\n",
        "with open('dev.jsonl', 'rb') as f:\n",
        "  for i, line in enumerate(f, start=1):\n",
        "    try:\n",
        "      json_obj = json.loads(line.decode('utf-8'))\n",
        "      print(json.dumps(json_obj, indent=2))\n",
        "      break\n",
        "    except json.JSONDecodeError:\n",
        "      pass"
      ],
      "metadata": {
        "colab": {
          "base_uri": "https://localhost:8080/"
        },
        "id": "nNzu-HocyAm_",
        "outputId": "7b49cb0e-9a7a-4dd3-a6c3-66f7c56a6042"
      },
      "execution_count": 38,
      "outputs": [
        {
          "output_type": "stream",
          "name": "stdout",
          "text": [
            "{\n",
            "  \"category\": \"Popular Culture\",\n",
            "  \"correct_votes\": 1,\n",
            "  \"gold_evidence\": [\n",
            "    {\n",
            "      \"section_header\": \"Production\",\n",
            "      \"text\": \"Then prime minister Indira Gandhi declared a state of emergency in India and shooting would be impossible.\"\n",
            "    }\n",
            "  ],\n",
            "  \"id\": \"01EICaMMy6uOPHdoEGAf\",\n",
            "  \"label\": \"SUPPORTS\",\n",
            "  \"retrieved_evidence\": [\n",
            "    {\n",
            "      \"section_header\": \"Release and reception | Critical response\",\n",
            "      \"text\": \"At a time of deep political unrest, economic dislocation and nuclear anxiety, seeing \\\"Gandhi\\\" is an experience that will change many minds and hearts.\"\n",
            "    },\n",
            "    {\n",
            "      \"section_header\": \"Release and reception | Box office\",\n",
            "      \"text\": \"Due to the running time, it could only be shown three times a day.\"\n",
            "    },\n",
            "    {\n",
            "      \"section_header\": \"Release and reception | Critical response\",\n",
            "      \"text\": \", Jack Kroll stated that \\\"There are very few movies that absolutely must be seen.\"\n",
            "    },\n",
            "    {\n",
            "      \"section_header\": \"Release and reception\",\n",
            "      \"text\": \"Gandhi premiered in New Delhi, India on 30 November 1982.\"\n",
            "    },\n",
            "    {\n",
            "      \"section_header\": \"Production\",\n",
            "      \"text\": \"Then prime minister Indira Gandhi declared a state of emergency in India and shooting would be impossible.\"\n",
            "    },\n",
            "    {\n",
            "      \"section_header\": \"Plot\",\n",
            "      \"text\": \"Gandhi is opposed to the idea, and is even willing to allow Muhammad Ali Jinnah to become the first Prime Minister of India, but the Partition of India is carried out nevertheless.\"\n",
            "    },\n",
            "    {\n",
            "      \"section_header\": \"Summary\",\n",
            "      \"text\": \"Gandhi was released in India on 30 November 1982, in the United Kingdom on 3 December, and in the United States on 8 December.\"\n",
            "    },\n",
            "    {\n",
            "      \"section_header\": \"Plot\",\n",
            "      \"text\": \"In 1915, as a result of his victory in South Africa, Gandhi is invited back to India, where he is now considered something of a national hero.\"\n",
            "    },\n",
            "    {\n",
            "      \"section_header\": \"Production\",\n",
            "      \"text\": \"He was able to meet prime minister Nehru and his daughter Indira Gandhi through a connection with Lord Louis Mountbatten, the last Viceroy of India.\"\n",
            "    },\n",
            "    {\n",
            "      \"section_header\": \"Production\",\n",
            "      \"text\": \"In 1952, Gabriel Pascal secured an agreement with the Prime Minister of India (Jawaharlal Nehru) to produce a film of Gandhi's life.\"\n",
            "    }\n",
            "  ],\n",
            "  \"text\": \"Filming for the movie Gandhi in India was delayed due to political unrest.\",\n",
            "  \"total_likes\": 0,\n",
            "  \"total_votes\": 1,\n",
            "  \"wikipedia_page\": \"Gandhi (film)\"\n",
            "}\n"
          ]
        }
      ]
    },
    {
      "cell_type": "code",
      "execution_count": 25,
      "metadata": {
        "id": "bHbV63cttLO6"
      },
      "outputs": [],
      "source": [
        "#@title Load JSONL Data (official method)\n",
        "import requests\n",
        "\n",
        "LABELS = {'SUPPORTS': '0', 'REFUTES': '1'}\n",
        "\n",
        "# in official code, this is an inner function to generate a list of data tuples\n",
        "# the data tuples will then be converted to tensorflow Dataset (not shown here)\n",
        "def _load_json(url_path):\n",
        "  data_tuples = []\n",
        "\n",
        "  data = requests.get(url_path)\n",
        "\n",
        "  for line in data.content.decode('utf-8').split('\\n'):\n",
        "    if not line:\n",
        "      continue\n",
        "    json_line = json.loads(line)\n",
        "    # To work with CloudTPU, we cannot use a generator but have to create the\n",
        "    # data using `from_tensor_slices`.  Because this requires a homogenous\n",
        "    # tuples, the label is a string at this point, and we only parse it to\n",
        "    # int later.\n",
        "    data_tuples.append(\n",
        "        (json_line['text'],  ' '.join(\n",
        "            x['text'] for x in json_line['gold_evidence']),\n",
        "            LABELS[json_line['label']]))\n",
        "\n",
        "  return data_tuples\n",
        "\n",
        "data_tuples_train = _load_json('https://raw.githubusercontent.com/google-research/fool-me-twice/main/dataset/train.jsonl')\n",
        "data_tuples_dev = _load_json('https://raw.githubusercontent.com/google-research/fool-me-twice/main/dataset/dev.jsonl')"
      ]
    },
    {
      "cell_type": "code",
      "source": [
        "print(\"total tuples dev: \", len(data_tuples_dev))\n",
        "for i in range(5):\n",
        "  print(\"text: \", data_tuples_dev[i][0])\n",
        "  print(\"gold evidence: \", data_tuples_dev[i][1])\n",
        "  print(\"label: \", data_tuples_dev[i][2])\n",
        "  print(\"*\" * 1000)"
      ],
      "metadata": {
        "colab": {
          "base_uri": "https://localhost:8080/"
        },
        "id": "AA29_i5xyvFO",
        "outputId": "197005a7-c1b1-42f5-b92c-d1ce11c0f5a4"
      },
      "execution_count": 32,
      "outputs": [
        {
          "output_type": "stream",
          "name": "stdout",
          "text": [
            "total tuples dev:  1169\n",
            "text:  Filming for the movie Gandhi in India was delayed due to political unrest.\n",
            "gold evidence:  Then prime minister Indira Gandhi declared a state of emergency in India and shooting would be impossible.\n",
            "label:  0\n",
            "****************************************************************************************************************************************************************************************************************************************************************************************************************************************************************************************************************************************************************************************************************************************************************************************************************************************************************************************************************************************************************************************************************************************************************************************************************************************************************************************************************************************\n",
            "text:  Willie Stargell lived with his father after his mother and father  separated.\n",
            "gold evidence:  Stargell was born in Earlsboro, Oklahoma, but later moved to Florida with an aunt after his parents divorced.\n",
            "label:  1\n",
            "****************************************************************************************************************************************************************************************************************************************************************************************************************************************************************************************************************************************************************************************************************************************************************************************************************************************************************************************************************************************************************************************************************************************************************************************************************************************************************************************************************************************\n",
            "text:  After the overthrow of Stroessner, Paraguay had its first non-military head of state in four decades.\n",
            "gold evidence:  In May 1993, Colorado Party candidate Juan Carlos Wasmosy was elected as Paraguay's first civilian president in almost forty years, in what international observers deemed free and fair elections. On 3 February 1989, Stroessner was overthrown in a military coup headed by General Andrés Rodríguez.\n",
            "label:  0\n",
            "****************************************************************************************************************************************************************************************************************************************************************************************************************************************************************************************************************************************************************************************************************************************************************************************************************************************************************************************************************************************************************************************************************************************************************************************************************************************************************************************************************************************\n",
            "text:  Titration is used when doctors test how much sugar is in a patient's liquid waste.\n",
            "gold evidence:  Benedict's reagent: Excess glucose in urine may indicate diabetes in a patient. During this type of titration, glucose reduces cupric ions to cuprous ions which react with potassium thiocyanate to produce a white precipitate, indicating the endpoint.\n",
            "label:  0\n",
            "****************************************************************************************************************************************************************************************************************************************************************************************************************************************************************************************************************************************************************************************************************************************************************************************************************************************************************************************************************************************************************************************************************************************************************************************************************************************************************************************************************************************\n",
            "text:  The book Song of the Lark's story is set in rural Kansas.\n",
            "gold evidence:  The Song of the Lark is the third novel by American author Willa Cather, written in 1915. Set in the 1890s in Moonstone, a fictional town in Colorado, The Song of the Lark is the self-portrait of an artist in the making.\n",
            "label:  1\n",
            "****************************************************************************************************************************************************************************************************************************************************************************************************************************************************************************************************************************************************************************************************************************************************************************************************************************************************************************************************************************************************************************************************************************************************************************************************************************************************************************************************************************************\n"
          ]
        }
      ]
    },
    {
      "cell_type": "code",
      "source": [
        "data_tuples_dev_support = [data_tuple for data_tuple in data_tuples_dev if data_tuple[2] == '0']\n",
        "data_tuples_dev_refute = [data_tuple for data_tuple in data_tuples_dev if data_tuple[2] == '1']"
      ],
      "metadata": {
        "id": "j6KpAIS_yzo1"
      },
      "execution_count": 34,
      "outputs": []
    },
    {
      "cell_type": "code",
      "source": [
        "print(\"total tuples dev support: \", len(data_tuples_dev_support))\n",
        "for i in range(5):\n",
        "  print(\"text: \", data_tuples_dev_support[i][0])\n",
        "  print(\"gold evidence: \", data_tuples_dev_support[i][1])\n",
        "  print(\"label: \", data_tuples_dev_support[i][2])\n",
        "  print(\"*\" * 1000)"
      ],
      "metadata": {
        "colab": {
          "base_uri": "https://localhost:8080/"
        },
        "id": "7AOv4Hgz0Opt",
        "outputId": "31e16558-d02b-4add-ed61-f47bb9ecd4b6"
      },
      "execution_count": 36,
      "outputs": [
        {
          "output_type": "stream",
          "name": "stdout",
          "text": [
            "total tuples dev support:  596\n",
            "text:  Filming for the movie Gandhi in India was delayed due to political unrest.\n",
            "gold evidence:  Then prime minister Indira Gandhi declared a state of emergency in India and shooting would be impossible.\n",
            "label:  0\n",
            "****************************************************************************************************************************************************************************************************************************************************************************************************************************************************************************************************************************************************************************************************************************************************************************************************************************************************************************************************************************************************************************************************************************************************************************************************************************************************************************************************************************************\n",
            "text:  After the overthrow of Stroessner, Paraguay had its first non-military head of state in four decades.\n",
            "gold evidence:  In May 1993, Colorado Party candidate Juan Carlos Wasmosy was elected as Paraguay's first civilian president in almost forty years, in what international observers deemed free and fair elections. On 3 February 1989, Stroessner was overthrown in a military coup headed by General Andrés Rodríguez.\n",
            "label:  0\n",
            "****************************************************************************************************************************************************************************************************************************************************************************************************************************************************************************************************************************************************************************************************************************************************************************************************************************************************************************************************************************************************************************************************************************************************************************************************************************************************************************************************************************************\n",
            "text:  Titration is used when doctors test how much sugar is in a patient's liquid waste.\n",
            "gold evidence:  Benedict's reagent: Excess glucose in urine may indicate diabetes in a patient. During this type of titration, glucose reduces cupric ions to cuprous ions which react with potassium thiocyanate to produce a white precipitate, indicating the endpoint.\n",
            "label:  0\n",
            "****************************************************************************************************************************************************************************************************************************************************************************************************************************************************************************************************************************************************************************************************************************************************************************************************************************************************************************************************************************************************************************************************************************************************************************************************************************************************************************************************************************************\n",
            "text:  No Country for Old Men was a script before being a book.\n",
            "gold evidence:  No Country for Old Men is a 2005 novel by American author Cormac McCarthy, who had originally written the story as a screenplay.\n",
            "label:  0\n",
            "****************************************************************************************************************************************************************************************************************************************************************************************************************************************************************************************************************************************************************************************************************************************************************************************************************************************************************************************************************************************************************************************************************************************************************************************************************************************************************************************************************************************\n",
            "text:  It's a Mad, Mad, Mad, Mad World movie premiered in the 1960s.\n",
            "gold evidence:  It's a Mad, Mad, Mad, Mad World is a 1963 American comedy film produced and directed by Stanley Kramer with a screenplay by William Rose and Tania Rose from a story by Tania Rose.\n",
            "label:  0\n",
            "****************************************************************************************************************************************************************************************************************************************************************************************************************************************************************************************************************************************************************************************************************************************************************************************************************************************************************************************************************************************************************************************************************************************************************************************************************************************************************************************************************************************\n"
          ]
        }
      ]
    },
    {
      "cell_type": "code",
      "source": [
        "print(\"total tuples dev refute: \", len(data_tuples_dev_refute))\n",
        "for i in range(5):\n",
        "  print(\"text: \", data_tuples_dev_refute[i][0])\n",
        "  print(\"gold evidence: \", data_tuples_dev_refute[i][1])\n",
        "  print(\"label: \", data_tuples_dev_refute[i][2])\n",
        "  print(\"*\" * 1000)"
      ],
      "metadata": {
        "colab": {
          "base_uri": "https://localhost:8080/"
        },
        "id": "csK2C9f_0oIu",
        "outputId": "9f1023b3-3be3-44db-edc2-0938d89bbcd2"
      },
      "execution_count": 37,
      "outputs": [
        {
          "output_type": "stream",
          "name": "stdout",
          "text": [
            "total tuples dev refute:  573\n",
            "text:  Willie Stargell lived with his father after his mother and father  separated.\n",
            "gold evidence:  Stargell was born in Earlsboro, Oklahoma, but later moved to Florida with an aunt after his parents divorced.\n",
            "label:  1\n",
            "****************************************************************************************************************************************************************************************************************************************************************************************************************************************************************************************************************************************************************************************************************************************************************************************************************************************************************************************************************************************************************************************************************************************************************************************************************************************************************************************************************************************\n",
            "text:  The book Song of the Lark's story is set in rural Kansas.\n",
            "gold evidence:  The Song of the Lark is the third novel by American author Willa Cather, written in 1915. Set in the 1890s in Moonstone, a fictional town in Colorado, The Song of the Lark is the self-portrait of an artist in the making.\n",
            "label:  1\n",
            "****************************************************************************************************************************************************************************************************************************************************************************************************************************************************************************************************************************************************************************************************************************************************************************************************************************************************************************************************************************************************************************************************************************************************************************************************************************************************************************************************************************************\n",
            "text:  Vic Willis threw a no-hitter in the 1900s.\n",
            "gold evidence:  He was the last pitcher to throw a no-hitter in the 19th century.\n",
            "label:  1\n",
            "****************************************************************************************************************************************************************************************************************************************************************************************************************************************************************************************************************************************************************************************************************************************************************************************************************************************************************************************************************************************************************************************************************************************************************************************************************************************************************************************************************************************\n",
            "text:  Raging Bull is based  on a true event about an out of control bull.\n",
            "gold evidence:  Raging Bull is a 1980 American biographical sports  drama film directed by Martin Scorsese, produced by Robert Chartoff and Irwin Winkler and adapted by Paul Schrader and Mardik Martin from Jake LaMotta's 1970 memoir Raging Bull: My Story.\n",
            "label:  1\n",
            "****************************************************************************************************************************************************************************************************************************************************************************************************************************************************************************************************************************************************************************************************************************************************************************************************************************************************************************************************************************************************************************************************************************************************************************************************************************************************************************************************************************************\n",
            "text:  It had a slow growth at the beginning.\n",
            "gold evidence:  The company experienced rapid initial growth.\n",
            "label:  1\n",
            "****************************************************************************************************************************************************************************************************************************************************************************************************************************************************************************************************************************************************************************************************************************************************************************************************************************************************************************************************************************************************************************************************************************************************************************************************************************************************************************************************************************************\n"
          ]
        }
      ]
    },
    {
      "cell_type": "code",
      "source": [],
      "metadata": {
        "id": "j7N4-LYJ0xQq"
      },
      "execution_count": null,
      "outputs": []
    }
  ]
}